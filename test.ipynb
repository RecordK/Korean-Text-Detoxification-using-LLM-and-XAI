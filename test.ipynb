{
 "cells": [
  {
   "cell_type": "code",
   "execution_count": 1,
   "metadata": {},
   "outputs": [
    {
     "data": {
      "text/html": [
       "<div>\n",
       "<style scoped>\n",
       "    .dataframe tbody tr th:only-of-type {\n",
       "        vertical-align: middle;\n",
       "    }\n",
       "\n",
       "    .dataframe tbody tr th {\n",
       "        vertical-align: top;\n",
       "    }\n",
       "\n",
       "    .dataframe thead th {\n",
       "        text-align: right;\n",
       "    }\n",
       "</style>\n",
       "<table border=\"1\" class=\"dataframe\">\n",
       "  <thead>\n",
       "    <tr style=\"text-align: right;\">\n",
       "      <th></th>\n",
       "      <th>Unnamed: 0</th>\n",
       "      <th>Raw Sentence</th>\n",
       "      <th>Our Model</th>\n",
       "    </tr>\n",
       "  </thead>\n",
       "  <tbody>\n",
       "    <tr>\n",
       "      <th>0</th>\n",
       "      <td>0</td>\n",
       "      <td>씨바알..노무노무 술프노... 오늘 저녁은 꽂등심이다ㅠㅜ</td>\n",
       "      <td>아.. 정말정말 술이 땡기네... 오늘 저녁은 꽃등심이다ㅠㅜ</td>\n",
       "    </tr>\n",
       "    <tr>\n",
       "      <th>1</th>\n",
       "      <td>1</td>\n",
       "      <td>아무리 법이 뭣같아도 무슨 자격으로 개인의 신상정보를 불특정 다수에게 공개하는지 ...</td>\n",
       "      <td>아무리 법이 불공정해도 어떤 권리로 개인의 신상정보를 불특정 다수에게 공개하는지 도...</td>\n",
       "    </tr>\n",
       "    <tr>\n",
       "      <th>2</th>\n",
       "      <td>2</td>\n",
       "      <td>다음도 들어와라하고...다른 의견내는 유튜버 목 자르고....추아줌마 꺼 여기저기...</td>\n",
       "      <td>다음도 들어와라 하고... 다른 의견 내는 유튜버를 배제하고... 추측이 여기저기서...</td>\n",
       "    </tr>\n",
       "    <tr>\n",
       "      <th>3</th>\n",
       "      <td>3</td>\n",
       "      <td>개별 공무원 뷰웅들의 헷지랄에 뭔 청와대까지 들먹이는지... 빠끄네 때도 순시리가...</td>\n",
       "      <td>개별 공무원 분들의 활동에 왜 청와대까지 언급하는지 모르겠네요. 이전에도 문제가 있...</td>\n",
       "    </tr>\n",
       "    <tr>\n",
       "      <th>4</th>\n",
       "      <td>4</td>\n",
       "      <td>대깨문이 문재인 협박범을 쉴드치네? 역시 대가리가 붕어인듯~</td>\n",
       "      <td>지지자들이 문재인 협박범을 옹호하네? 역시 생각이 단순한 듯~</td>\n",
       "    </tr>\n",
       "  </tbody>\n",
       "</table>\n",
       "</div>"
      ],
      "text/plain": [
       "   Unnamed: 0                                       Raw Sentence  \\\n",
       "0           0                    씨바알..노무노무 술프노... 오늘 저녁은 꽂등심이다ㅠㅜ   \n",
       "1           1   아무리 법이 뭣같아도 무슨 자격으로 개인의 신상정보를 불특정 다수에게 공개하는지 ...   \n",
       "2           2   다음도 들어와라하고...다른 의견내는 유튜버 목 자르고....추아줌마 꺼 여기저기...   \n",
       "3           3   개별 공무원 뷰웅들의 헷지랄에 뭔 청와대까지 들먹이는지... 빠끄네 때도 순시리가...   \n",
       "4           4                  대깨문이 문재인 협박범을 쉴드치네? 역시 대가리가 붕어인듯~   \n",
       "\n",
       "                                           Our Model  \n",
       "0                  아.. 정말정말 술이 땡기네... 오늘 저녁은 꽃등심이다ㅠㅜ  \n",
       "1  아무리 법이 불공정해도 어떤 권리로 개인의 신상정보를 불특정 다수에게 공개하는지 도...  \n",
       "2  다음도 들어와라 하고... 다른 의견 내는 유튜버를 배제하고... 추측이 여기저기서...  \n",
       "3  개별 공무원 분들의 활동에 왜 청와대까지 언급하는지 모르겠네요. 이전에도 문제가 있...  \n",
       "4                 지지자들이 문재인 협박범을 옹호하네? 역시 생각이 단순한 듯~  "
      ]
     },
     "execution_count": 1,
     "metadata": {},
     "output_type": "execute_result"
    }
   ],
   "source": [
    "import pandas as pd\n",
    "\n",
    "# .csv 파일 불러오기\n",
    "df = pd.read_csv(\"/home/jupyter/Korean_Text_Detoxification/results/final_ours.csv\")\n",
    "df.head()\n",
    "# # 변경된 형식으로 변환하여 텍스트 파일에 저장\n",
    "# with open(\"final_ours_changed_format.txt\", \"w\", encoding=\"utf-8\") as file:\n",
    "#     for index, row in df.iterrows():\n",
    "#         ori_comment = row['Raw Sentence']\n",
    "#         detox_comment = row['Our Model']\n",
    "#         file.write(f\"기존 댓글 : {ori_comment}\\n순화된 문장: {{{detox_comment}}}\\n\\n\")\n",
    "\n",
    "# print(\"변경된 형식으로 저장되었습니다.\")\n"
   ]
  },
  {
   "cell_type": "code",
   "execution_count": 10,
   "metadata": {},
   "outputs": [
    {
     "name": "stdout",
     "output_type": "stream",
     "text": [
      "기존 문장:  씨바알..노무노무 술프노... 오늘 저녁은 꽂등심이다ㅠㅜ\n",
      "순화된 문장: 아.. 정말정말 술이 땡기네... 오늘 저녁은 꽃등심이다ㅠㅜ\n",
      "\n",
      "\n",
      "기존 문장:  아무리 법이 뭣같아도 무슨 자격으로 개인의 신상정보를 불특정 다수에게 공개하는지 도저히 이해가 안되네요 법을 바꾸기 위해 노력하세요 저런 능력으로 불법적인 일을 공공의 이익으로 포장하지 마시구요\n",
      "순화된 문장: 아무리 법이 불공정해도 어떤 권리로 개인의 신상정보를 불특정 다수에게 공개하는지 도저히 이해가 안 되네요. 법을 개선하기 위해 노력하세요. 그런 능력으로 불법적인 일을 공공의 이익으로 포장하지 마세요.\n",
      "\n",
      "\n",
      "기존 문장:  다음도 들어와라하고...다른 의견내는 유튜버 목 자르고....추아줌마 꺼 여기저기서 진술나오니...무슨 기강감찰이니 하며 협박들어가고..... 댓글에 중국 러시아 욕하는 사람들 이제 아가리 닥쳐라. 우리나라도 똑같이 되었다.\n",
      "순화된 문장: 다음도 들어와라 하고... 다른 의견 내는 유튜버를 배제하고... 추측이 여기저기서 나오니... 무슨 기강을 잡는다며 압박이 들어가고... 댓글에 중국, 러시아 비판하는 사람들 이제 말을 아끼자. 우리나라도 비슷한 상황이 되었다.\n",
      "\n",
      "\n",
      "기존 문장:  개별 공무원 뷰웅들의 헷지랄에 뭔 청와대까지 들먹이는지... 빠끄네 때도 순시리가 개뻘짓했지 청와대는 암것도 않했지 말입니다~\n",
      "순화된 문장: 개별 공무원 분들의 활동에 왜 청와대까지 언급하는지 모르겠네요. 이전에도 문제가 있었지만 청와대는 관련이 없었다고 합니다.\n",
      "\n",
      "\n",
      "기존 문장:  대깨문이 문재인 협박범을 쉴드치네? 역시 대가리가 붕어인듯~\n",
      "순화된 문장: 지지자들이 문재인 협박범을 옹호하네? 역시 생각이 단순한 듯~\n",
      "\n",
      "\n"
     ]
    }
   ],
   "source": [
    "for d in range(5):\n",
    "    print(f'기존 문장: {df.iloc[d,1:][0]}')\n",
    "    print(f'순화된 문장: {df.iloc[d,1:][1]}')\n",
    "    print('\\n')"
   ]
  },
  {
   "cell_type": "code",
   "execution_count": null,
   "metadata": {},
   "outputs": [],
   "source": []
  },
  {
   "cell_type": "markdown",
   "metadata": {},
   "source": [
    "# 2"
   ]
  },
  {
   "cell_type": "code",
   "execution_count": 26,
   "metadata": {},
   "outputs": [
    {
     "name": "stdout",
     "output_type": "stream",
     "text": [
      "CSV 파일이 성공적으로 생성되었습니다.\n"
     ]
    }
   ],
   "source": [
    "import re\n",
    "import csv\n",
    "\n",
    "# 정규표현식 패턴\n",
    "pattern_ori = re.compile(r'^기존 댓글 : (.*)$')\n",
    "pattern_detox = re.compile(r'^순화된 (.*)$')\n",
    "\n",
    "# 결과를 저장할 리스트\n",
    "data = []\n",
    "\n",
    "# final.txt 파일을 읽어서 데이터 가공\n",
    "with open('/home/jupyter/Korean_Text_Detoxification/results/Final_nonono.txt', 'r', encoding='utf-8') as file:\n",
    "    ori_comment = []\n",
    "    detox_comment = []\n",
    "    for line in file:\n",
    "        ori_match = pattern_ori.match(line)\n",
    "        detox_match = pattern_detox.match(line)\n",
    "        if ori_match:\n",
    "            # ori_comment = ori_match.group(1)\n",
    "            ori_comment.append(ori_match)\n",
    "        elif detox_match:\n",
    "            # detox_comment = detox_match.group(1)\n",
    "            detox_comment.append(detox_match)\n",
    "            # data.append({'ori': ori_comment.strip(), 'detox': detox_comment.strip()})\n",
    "\n",
    "# 결과를 csv 파일로 저장\n",
    "with open('comments.csv', 'w', encoding='utf-8', newline='') as csvfile:\n",
    "    fieldnames = ['ori', 'detox']\n",
    "    writer = csv.DictWriter(csvfile, fieldnames=fieldnames)\n",
    "    writer.writeheader()\n",
    "    for row in data:\n",
    "        writer.writerow(row)\n",
    "\n",
    "print(\"CSV 파일이 성공적으로 생성되었습니다.\")"
   ]
  },
  {
   "cell_type": "code",
   "execution_count": 27,
   "metadata": {},
   "outputs": [
    {
     "data": {
      "text/plain": [
       "(1359, 1359)"
      ]
     },
     "execution_count": 27,
     "metadata": {},
     "output_type": "execute_result"
    }
   ],
   "source": [
    "len(ori_comment), len(detox_comment)"
   ]
  },
  {
   "cell_type": "code",
   "execution_count": 29,
   "metadata": {},
   "outputs": [
    {
     "data": {
      "text/plain": [
       "('\"세금 내놓으라고 데모질 중 ㅋㅋ간첩, 도둑놈 새끼들이 대통령 해처먹으니까  나도 같이 해먹자며 나라 전체에 도둑놈만 득실거림 ㅋㅋ품종도 도둑질하는 조센진들\"',\n",
       " '댓글: \"세금 문제로 시위가 많아지는 것 같네요. 지도자들의 행동이 국민에게 좋지 않은 영향을 미칠 수 있어 우려됩니다. 모두가 정직하게 행동했으면 좋겠어요.\"')"
      ]
     },
     "execution_count": 29,
     "metadata": {},
     "output_type": "execute_result"
    }
   ],
   "source": [
    "ori_comment[-1][1], detox_comment[-1][1]"
   ]
  },
  {
   "cell_type": "code",
   "execution_count": 33,
   "metadata": {},
   "outputs": [],
   "source": [
    "detox_data = []\n",
    "for i,v in enumerate(ori_comment):\n",
    "    try:\n",
    "        detox_data.append([ori_comment[i][1], detox_comment[i][1]])\n",
    "    except:print(i,v)"
   ]
  },
  {
   "cell_type": "code",
   "execution_count": 40,
   "metadata": {},
   "outputs": [
    {
     "name": "stdout",
     "output_type": "stream",
     "text": [
      "씨바알..노무노무 술프노... 오늘 저녁은 꽂등심이다ㅠㅜ\n",
      "문장: {'정말 슬프네요... 오늘 저녁은 꽃등심이에요.ㅠㅜ\\n'}\n"
     ]
    }
   ],
   "source": [
    "for d in detox_data:\n",
    "    print(d[0])\n",
    "    print(d[1])\n",
    "    break"
   ]
  }
 ],
 "metadata": {
  "kernelspec": {
   "display_name": "jp95",
   "language": "python",
   "name": "python3"
  },
  "language_info": {
   "codemirror_mode": {
    "name": "ipython",
    "version": 3
   },
   "file_extension": ".py",
   "mimetype": "text/x-python",
   "name": "python",
   "nbconvert_exporter": "python",
   "pygments_lexer": "ipython3",
   "version": "3.8.17"
  }
 },
 "nbformat": 4,
 "nbformat_minor": 2
}
